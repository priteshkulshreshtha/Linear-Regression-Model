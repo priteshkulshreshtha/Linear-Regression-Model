{
 "cells": [
  {
   "cell_type": "code",
   "execution_count": 1,
   "metadata": {},
   "outputs": [],
   "source": [
    "import numpy as np\n",
    "import matplotlib.pyplot as plt"
   ]
  },
  {
   "cell_type": "code",
   "execution_count": 8,
   "metadata": {},
   "outputs": [
    {
     "data": {
      "text/plain": [
       "<AxesSubplot:>"
      ]
     },
     "execution_count": 8,
     "metadata": {},
     "output_type": "execute_result"
    },
    {
     "data": {
      "image/png": "[encoded data removed]",
      "text/plain": [
       "<Figure size 432x288 with 1 Axes>"
      ]
     },
     "metadata": {
      "needs_background": "light"
     },
     "output_type": "display_data"
    }
   ],
   "source": [
    "from sklearn.datasets import make_classification\n",
    "import seaborn as sns\n",
    "\n",
    "X, y = make_classification(n_samples=100, n_redundant=0, n_informative=2, n_features=2, class_sep=1.0,\n",
    "                           n_clusters_per_class=2, flip_y=0)\n",
    "\n",
    "sns.scatterplot(x=X[:,0], y=y, hue=y)"
   ]
  },
  {
   "cell_type": "code",
   "execution_count": 6,
   "metadata": {},
   "outputs": [],
   "source": [
    "from sklearn.metrics import confusion_matrix\n",
    "\n",
    "class logistic_regressor:\n",
    "    def __init__(self, learning_rate=0.01, iterations=100, reg=0.01, early_stop=0.01):\n",
    "        self.w = 0\n",
    "        self.b = 0\n",
    "        self.X = 0\n",
    "        self.y = 0\n",
    "        self.n = 0\n",
    "        self.iterations = iterations\n",
    "        self.alpha = learning_rate\n",
    "        self.reg = reg\n",
    "        \n",
    "\n",
    "    def sigmoid(self, z):\n",
    "        return 1/(1 + np.exp(-z))\n",
    "   \n",
    "    def fit(self, X, y, verbose=False, visualize=False, crisp=True):\n",
    "        \n",
    "        self.X = X\n",
    "        self.y = y\n",
    "        self.n = y.shape[0]\n",
    "        self.w = np.random.rand((self.X.shape[1]))\n",
    "        \n",
    "        last_loss = 0\n",
    "        \n",
    "        z = self.w * self.X + self.b\n",
    "        \n",
    "        for i in range(self.iterations):\n",
    "            \n",
    "            cur_loss = self.calc_loss(self.X)\n",
    "            if np.abs(cur_loss - last_loss) < 0.01:\n",
    "                print(f\"Stopping early as minima has been reached\")\n",
    "                break\n",
    "            last_loss = cur_loss\n",
    "            \n",
    "            if verbose and i%(self.iterations//5)==0:\n",
    "                print(f\"Iteration {i} loss:{cur_loss:.3f}\")\n",
    "                \n",
    "            a = self.predict(self.X)\n",
    "            dz = a - y\n",
    "            dw = np.dot(self.X.T, dz)/self.n\n",
    "            db = np.sum(dz)/self.n\n",
    "            self.w -= self.alpha * dw\n",
    "            self.b -= self.alpha * db\n",
    "            \n",
    "        print(f\"\\n\\nModel Trained on {self.n} data points, total iterations {i+1} with final loss {self.calc_loss(self.X):.3f}\")\n",
    "        \n",
    "        if visualize:            \n",
    "            min1, max1 = X[:, 0].min()-1, X[:, 0].max()+1\n",
    "            min2, max2 = X[:, 1].min()-1, X[:, 1].max()+1\n",
    "            \n",
    "            x1grid = np.arange(min1, max1, 0.1)\n",
    "            x2grid = np.arange(min2, max2, 0.1)\n",
    "            \n",
    "            xx, yy = np.meshgrid(x1grid, x2grid)\n",
    "            \n",
    "            r1, r2 = xx.flatten(), yy.flatten()\n",
    "            r1, r2 = r1.reshape((len(r1), 1)), r2.reshape((len(r2), 1))\n",
    "            \n",
    "            grid = np.hstack((r1,r2))\n",
    "           \n",
    "            yhat = self.predict(grid) if not crisp else np.array([1 if x > 0.5 else 0 for x in self.predict(grid)])\n",
    "            \n",
    "            zz = yhat.reshape(xx.shape)\n",
    "            \n",
    "            plt.contourf(xx, yy, zz, cmap='Paired')\n",
    "            sns.scatterplot(x=X[:,0], y=X[:,1], hue=self.y, cmap='Paired')   \n",
    "            \n",
    "    def predict(self, X):\n",
    "        return self.sigmoid(np.sum(self.w.T * X, axis=1) + self.b)\n",
    "\n",
    "    \n",
    "    def accuracy(self, X, y):\n",
    "        yhat = np.array([1 if x > 0.5 else 0 for x in self.predict(X)])\n",
    "        return np.sum(yhat == y) / len(X)\n",
    "    \n",
    "    def confusion_matrix(self, X, y):\n",
    "        yhat = np.array([1 if x > 0.5 else 0 for x in self.predict(X)])\n",
    "        return confusion_matrix(y, yhat)\n",
    "        \n",
    "    def calc_loss(self, X):\n",
    "        a = self.predict(X)\n",
    "        return np.sum(-(self.y * np.log(a) + (1 - self.y) * np.log(1 - a)))"
   ]
  },
  {
   "cell_type": "code",
   "execution_count": 15,
   "metadata": {},
   "outputs": [
    {
     "name": "stdout",
     "output_type": "stream",
     "text": [
      "Iteration 0 loss:50.965\n",
      "Iteration 200 loss:42.249\n",
      "Stopping early as minima has been reached\n",
      "\n",
      "\n",
      "Model Trained on 100 data points, total iterations 393 with final loss 39.428\n"
     ]
    },
    {
     "data": {
      "image/png": "[encoded data removed]",
      "text/plain": [
       "<Figure size 432x288 with 1 Axes>"
      ]
     },
     "metadata": {
      "needs_background": "light"
     },
     "output_type": "display_data"
    }
   ],
   "source": [
    "reg = logistic_regressor(iterations=1000)\n",
    "reg.fit(X, y, verbose=True, visualize=True, crisp=False)"
   ]
  },
  {
   "cell_type": "code",
   "execution_count": 193,
   "metadata": {},
   "outputs": [
    {
     "data": {
      "text/plain": [
       "<AxesSubplot:>"
      ]
     },
     "execution_count": 193,
     "metadata": {},
     "output_type": "execute_result"
    },
    {
     "data": {
      "image/png": "[encoded data removed]",
      "text/plain": [
       "<Figure size 432x288 with 2 Axes>"
      ]
     },
     "metadata": {
      "needs_background": "light"
     },
     "output_type": "display_data"
    }
   ],
   "source": [
    "conf = reg.confusion_matrix(X, y)\n",
    "sns.heatmap(conf, annot=True)"
   ]
  },
  {
   "cell_type": "code",
   "execution_count": 190,
   "metadata": {},
   "outputs": [
    {
     "data": {
      "text/plain": [
       "0.8"
      ]
     },
     "execution_count": 190,
     "metadata": {},
     "output_type": "execute_result"
    }
   ],
   "source": [
    "reg.accuracy(X, y)"
   ]
  },
  {
   "cell_type": "code",
   "execution_count": 14,
   "metadata": {},
   "outputs": [
    {
     "data": {
      "text/plain": [
       "array([False,  True, False,  True,  True, False,  True,  True, False,\n",
       "        True, False,  True,  True,  True, False,  True, False,  True,\n",
       "        True, False, False,  True,  True,  True,  True, False, False,\n",
       "        True, False, False,  True,  True,  True,  True, False,  True,\n",
       "       False, False,  True,  True, False,  True, False,  True,  True,\n",
       "       False,  True, False,  True, False, False, False,  True,  True,\n",
       "        True, False, False, False,  True,  True,  True,  True,  True,\n",
       "       False,  True, False,  True,  True, False, False, False, False,\n",
       "        True, False,  True,  True,  True, False, False,  True,  True,\n",
       "        True, False,  True,  True,  True,  True,  True,  True, False,\n",
       "        True,  True,  True,  True, False,  True, False, False,  True,\n",
       "        True])"
      ]
     },
     "execution_count": 14,
     "metadata": {},
     "output_type": "execute_result"
    }
   ],
   "source": [
    "\n"
   ]
  }
 ],
 "metadata": {
  "kernelspec": {
   "display_name": "Python 3",
   "language": "python",
   "name": "python3"
  },
  "language_info": {
   "codemirror_mode": {
    "name": "ipython",
    "version": 3
   },
   "file_extension": ".py",
   "mimetype": "text/x-python",
   "name": "python",
   "nbconvert_exporter": "python",
   "pygments_lexer": "ipython3",
   "version": "3.8.0"
  }
 },
 "nbformat": 4,
 "nbformat_minor": 2
}

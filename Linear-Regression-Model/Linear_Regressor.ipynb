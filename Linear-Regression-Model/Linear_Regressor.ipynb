{
 "cells": [
  {
   "cell_type": "code",
   "execution_count": 1,
   "metadata": {},
   "outputs": [],
   "source": [
    "import numpy as np\n",
    "import random"
   ]
  },
  {
   "cell_type": "code",
   "execution_count": 2,
   "metadata": {},
   "outputs": [],
   "source": [
    "def generate_data(n_samples=10, n_features=1, n_targets=1, bias=0.0, noise=0.0, seed=None):\n",
    "    \n",
    "    generator = np.random.RandomState(seed) if seed != None else np.random\n",
    "        \n",
    "    X = generator.randn(n_samples, n_features)\n",
    "    corr = 100 * generator.rand(n_features, n_targets)\n",
    "    y = np.dot(X, corr) + bias\n",
    "    \n",
    "    # adding nosie to the target\n",
    "    if noise > 0.0:\n",
    "        y += generator.normal(scale=noise, size=y.shape)\n",
    "        \n",
    "    # removing extra dimensions for the target \n",
    "    y = np.squeeze(y)\n",
    "                                                           \n",
    "    return X, y"
   ]
  },
  {
   "cell_type": "code",
   "execution_count": 52,
   "metadata": {},
   "outputs": [],
   "source": [
    "class linear_regressor:\n",
    "    def __init__(self, learning_rate=0.01, iterations=100, reg=0.01, early_stop=0.01):\n",
    "        self.w = 0\n",
    "        self.b = 0\n",
    "        self.X = 0\n",
    "        self.y = 0\n",
    "        self.n = 0\n",
    "        self.iterations = iterations\n",
    "        self.alpha = learning_rate\n",
    "        self.reg = reg\n",
    "        \n",
    "    def fit(self, X, y, verbose=False):\n",
    "        \n",
    "        self.X = X\n",
    "        self.y = y\n",
    "        self.n = y.shape[0]\n",
    "        self.w = np.random.rand((self.X.shape[1]))\n",
    "        last_loss = 0\n",
    "        \n",
    "        for i in range(self.iterations):\n",
    "            cur_loss = self.calc_loss(self.X)\n",
    "            if np.abs(cur_loss - last_loss) < 0.01:\n",
    "                print(f\"Stopping early as minima has been reached\")\n",
    "                break\n",
    "            last_loss = cur_loss\n",
    "            if verbose and i%(self.iterations//5)==0:\n",
    "                print(f\"Iteration {i} loss:{cur_loss:.3f}\")\n",
    "            \n",
    "            y_hat = self.predict(self.X)\n",
    "            self.w -= - 2 / self.n * self.alpha * (np.sum(self.X.T * (self.y - y_hat),axis=1) + 2*self.reg*np.linalg.norm(self.w))\n",
    "            self.b -= - 2 / self.n * self.alpha * (np.sum(self.y - y_hat) + 2*self.reg*np.linalg.norm(self.w))\n",
    "        print(f\"Model Trained on {i} data points with final loss {self.calc_loss(self.X)}\")\n",
    "            \n",
    "    def predict(self, pred_X):\n",
    "        return np.squeeze(np.sum(self.w * pred_X + self.b, axis=1))\n",
    "        \n",
    "    def calc_loss(self, X):\n",
    "        return (np.sum((self.y - self.predict(X))**2) + self.reg * np.linalg.norm(self.w) ) / self.n"
   ]
  },
  {
   "cell_type": "code",
   "execution_count": 56,
   "metadata": {},
   "outputs": [],
   "source": [
    "X, y = generate_data(n_samples=100, n_features=1, noise=5, bias=5)"
   ]
  },
  {
   "cell_type": "code",
   "execution_count": 57,
   "metadata": {},
   "outputs": [
    {
     "name": "stdout",
     "output_type": "stream",
     "text": [
      "Iteration 0 loss:3825.026\n",
      "Iteration 200 loss:28.455\n",
      "Stopping early as minima has been reached\n",
      "Model Trained on 293 data points with final loss 22.765878907010784\n"
     ]
    }
   ],
   "source": [
    "reg = linear_regressor(iterations=1000, reg=0.01, early_stop=0.001)\n",
    "reg.fit(X, y, verbose=True)\n",
    "y_hat = reg.predict(X)"
   ]
  },
  {
   "cell_type": "code",
   "execution_count": 58,
   "metadata": {
    "scrolled": true
   },
   "outputs": [
    {
     "data": {
      "text/plain": [
       "<AxesSubplot:title={'center':'2D Compressed Plot'}, xlabel='X1 Feature', ylabel='Y Value'>"
      ]
     },
     "execution_count": 58,
     "metadata": {},
     "output_type": "execute_result"
    },
    {
     "data": {
      "image/png": "[encoded data removed]",
      "text/plain": [
       "<Figure size 432x288 with 1 Axes>"
      ]
     },
     "metadata": {
      "needs_background": "light"
     },
     "output_type": "display_data"
    }
   ],
   "source": [
    "# 2D plot\n",
    "import seaborn as sns\n",
    "import matplotlib.pyplot as plt\n",
    "\n",
    "plotX = np.linspace(X[:,0].min()-1,X[:,0].max()+1,100)\n",
    "plotY = reg.w[0]*plotX + reg.b\n",
    "\n",
    "plt.xlabel(\"X1 Feature\")\n",
    "plt.ylabel(\"Y Value\")\n",
    "plt.title(\"2D Compressed Plot\")\n",
    "\n",
    "sns.lineplot(x=plotX, y=plotY)\n",
    "sns.scatterplot(x=X[:,0], y=y, color=\"red\")"
   ]
  },
  {
   "cell_type": "code",
   "execution_count": 60,
   "metadata": {
    "scrolled": false
   },
   "outputs": [
    {
     "name": "stdout",
     "output_type": "stream",
     "text": [
      "The Data is 2D data can't plot a 3d graph\n"
     ]
    }
   ],
   "source": [
    "# 3D plot\n",
    "from mpl_toolkits.mplot3d import Axes3D\n",
    "\n",
    "from IPython.display import display, clear_output\n",
    "\n",
    "if X.shape[1]>2:\n",
    "    fig = plt.figure(figsize=(10,10))\n",
    "    ax = fig.gca(projection='3d')\n",
    "    plt.xlabel('X1 Feature')\n",
    "    plt.ylabel('X2 Feature')\n",
    "\n",
    "    for i in np.linspace(0, 240, 16):\n",
    "        ax.plot_trisurf(X[:,0], X[:,1], y_hat, cmap=plt.cm.viridis, linewidth=1)\n",
    "        ax.scatter(X[:,0], X[:,1], y, c='red')\n",
    "        ax.view_init(0, i)\n",
    "        display(fig)\n",
    "        clear_output(wait = True)\n",
    "else:\n",
    "    print(\"The Data is 2D data can't plot a 3d graph\")"
   ]
  },
  {
   "cell_type": "code",
   "execution_count": null,
   "metadata": {},
   "outputs": [],
   "source": []
  }
 ],
 "metadata": {
  "kernelspec": {
   "display_name": "Python 3",
   "language": "python",
   "name": "python3"
  },
  "language_info": {
   "codemirror_mode": {
    "name": "ipython",
    "version": 3
   },
   "file_extension": ".py",
   "mimetype": "text/x-python",
   "name": "python",
   "nbconvert_exporter": "python",
   "pygments_lexer": "ipython3",
   "version": "3.8.0"
  }
 },
 "nbformat": 4,
 "nbformat_minor": 2
}
